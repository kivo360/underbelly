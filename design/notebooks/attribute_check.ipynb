{
 "metadata": {
  "language_info": {
   "codemirror_mode": {
    "name": "ipython",
    "version": 3
   },
   "file_extension": ".py",
   "mimetype": "text/x-python",
   "name": "python",
   "nbconvert_exporter": "python",
   "pygments_lexer": "ipython3",
   "version": "3.7.3-final"
  },
  "orig_nbformat": 2,
  "kernelspec": {
   "name": "python_defaultSpec_1598302757374",
   "display_name": "Python 3.7.3 64-bit ('3.7.3': pyenv)"
  }
 },
 "nbformat": 4,
 "nbformat_minor": 2,
 "cells": [
  {
   "cell_type": "code",
   "execution_count": 2,
   "metadata": {},
   "outputs": [],
   "source": [
    "import abc, copy, inspect\n",
    "from loguru import logger"
   ]
  },
  {
   "cell_type": "code",
   "execution_count": 3,
   "metadata": {},
   "outputs": [],
   "source": [
    "class EnvModuleType(abc.ABCMeta):\n",
    "    \"\"\" We use this to check if the proper variables are available after the init function \"\"\"\n",
    "\n",
    "\n",
    "    def __call__(cls, *args, **kwargs):\n",
    "        obj = type.__call__(cls, *args, **kwargs)\n",
    "        obj._verify_fields()\n",
    "        return obj"
   ]
  },
  {
   "cell_type": "code",
   "execution_count": 4,
   "metadata": {},
   "outputs": [],
   "source": [
    "class ProcessorAbstract(abc.ABC):\n",
    "    pass"
   ]
  },
  {
   "cell_type": "code",
   "execution_count": 5,
   "metadata": {},
   "outputs": [],
   "source": [
    "class SchemaAbstract(abc.ABC):\n",
    "    pass"
   ]
  },
  {
   "cell_type": "code",
   "execution_count": 15,
   "metadata": {},
   "outputs": [],
   "source": [
    "class EnvModule(metaclass=EnvModuleType):\n",
    "    \n",
    "    def __init__(self, *args, **kwargs):\n",
    "        self.depenencies = {}\n",
    "        self._base_essentials = {\n",
    "            \"processor\": ProcessorAbstract\n",
    "        }\n",
    "\n",
    "    \n",
    "\n",
    "    def step(self, *args, **kwargs):\n",
    "        raise NotImplementedError\n",
    "\n",
    "    def reset(self):\n",
    "        raise NotImplementedError\n",
    "\n",
    "    def render(self):\n",
    "        raise NotImplementedError\n",
    "\n",
    "    def __verify_all_inate_types(self):\n",
    "        dep_len = len(self.depenencies)\n",
    "        if dep_len == 0: return\n",
    "        for k, v in self.depenencies.items():\n",
    "            if k not in current_module: \n",
    "                raise AttributeError(f\"{k} is not in the dependencies. You have to add it.\")\n",
    "            if not isinstance(current_module[k], v): \n",
    "                \n",
    "                raise AttributeError(f\"{k} is not the right instance type. It should be {v}\")\n",
    "        \n",
    "        \n",
    "    \n",
    "    def __merge_essential_fields(self):\n",
    "        self._base_essentials.update(self.dependencies)\n",
    "        self.dependencies = copy.copy(self._base_essentials)\n",
    "\n",
    "\n",
    "    def _verify_fields(self):\n",
    "        self.__merge_essential_fields()\n",
    "        self.__verify_all_inate_types()"
   ]
  },
  {
   "cell_type": "code",
   "execution_count": 16,
   "metadata": {},
   "outputs": [],
   "source": [
    "# class ModuleWrapper:\n",
    "\n",
    "\n",
    "#     def __getattr__(self, name):\n",
    "#         stack = inspect.stack()\n",
    "#         caller_name = str(stack[1][0].f_locals[\"self\"].__class__.__name__).lower()\n",
    "#         caller_method = stack[1][0].f_code.co_name\n",
    "#         if not name.startswith('__'):\n",
    "#             # print(caller_name, caller_method)\n",
    "#             return getattr(self, name)\n",
    "            \n",
    "        \n",
    "#         class_name = str(self.__class__.__name__).lower()\n",
    "#         is_match = class_name == caller_name\n",
    "#         if not is_match: \n",
    "#             raise AttributeError(\"attempted to get missing private attribute '{}'\".format(name))"
   ]
  },
  {
   "cell_type": "code",
   "execution_count": 17,
   "metadata": {},
   "outputs": [],
   "source": [
    "class Broker(EnvModule):\n",
    "    def __init__(self, *args, **kwargs):\n",
    "        super().__init__(*args, **kwargs)\n",
    "        self.dependencies = {\n",
    "            \"schema\": SchemaAbstract\n",
    "        }\n",
    "        self.schema = \"None\"\n",
    "        self.processor = \"None\"\n",
    "\n",
    "    \n",
    "    "
   ]
  },
  {
   "cell_type": "code",
   "execution_count": 18,
   "metadata": {
    "tags": []
   },
   "outputs": [
    {
     "output_type": "stream",
     "name": "stderr",
     "text": "2020-08-24 17:30:32.414 | INFO     | __main__:__merge_essential_fields:33 - {'depenencies': {}, '_base_essentials': {'processor': <class '__main__.ProcessorAbstract'>}, 'dependencies': {'schema': <class '__main__.SchemaAbstract'>}, 'schema': 'None', 'processor': 'None'}\n"
    },
    {
     "output_type": "execute_result",
     "data": {
      "text/plain": "<__main__.Broker at 0x7f51f36063c8>"
     },
     "metadata": {},
     "execution_count": 18
    }
   ],
   "source": [
    "Broker()"
   ]
  },
  {
   "cell_type": "code",
   "execution_count": 10,
   "metadata": {},
   "outputs": [],
   "source": [
    "essential = {\n",
    "    \"name1\": str,\n",
    "    \"name2\": str\n",
    "}\n",
    "\n",
    "\n",
    "added_fields = {\n",
    "    \"name1\": \"hello world\",\n",
    "    \"name2\": \"132\"\n",
    "}"
   ]
  },
  {
   "cell_type": "code",
   "execution_count": null,
   "metadata": {},
   "outputs": [],
   "source": [
    "has_all_depenencies(essential, added_fields)"
   ]
  },
  {
   "cell_type": "code",
   "execution_count": null,
   "metadata": {},
   "outputs": [],
   "source": []
  },
  {
   "cell_type": "code",
   "execution_count": null,
   "metadata": {},
   "outputs": [],
   "source": []
  }
 ]
}